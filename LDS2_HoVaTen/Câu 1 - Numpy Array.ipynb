{
 "cells": [
  {
   "cell_type": "markdown",
   "id": "c3ed681f",
   "metadata": {},
   "source": [
    "1. Phát sinh mảng 2 chiều có kích thước 4x4 với các phần tử có giá trị phát sinh ngẫu nhiên từ 1 đến 100 với np.random.seed(1)."
   ]
  },
  {
   "cell_type": "code",
   "execution_count": 1,
   "id": "2ac3e852",
   "metadata": {},
   "outputs": [],
   "source": [
    "import numpy as np"
   ]
  },
  {
   "cell_type": "code",
   "execution_count": 2,
   "id": "424b72d6",
   "metadata": {},
   "outputs": [],
   "source": [
    "np.random.seed(1)"
   ]
  },
  {
   "cell_type": "code",
   "execution_count": 3,
   "id": "057fbc67",
   "metadata": {},
   "outputs": [],
   "source": [
    "arr2d = np.random.randint(1, 101, (4, 4))"
   ]
  },
  {
   "cell_type": "code",
   "execution_count": 4,
   "id": "eaf19b82",
   "metadata": {},
   "outputs": [
    {
     "data": {
      "text/plain": [
       "array([[38, 13, 73, 10],\n",
       "       [76,  6, 80, 65],\n",
       "       [17,  2, 77, 72],\n",
       "       [ 7, 26, 51, 21]])"
      ]
     },
     "execution_count": 4,
     "metadata": {},
     "output_type": "execute_result"
    }
   ],
   "source": [
    "arr2d"
   ]
  },
  {
   "cell_type": "markdown",
   "id": "da9ba6d6",
   "metadata": {},
   "source": [
    "2. Thay thế tất cả các giá trị trong mảng để đảm bảo các giá trị phần tử trong mảng thuộc khoảng [10,50]. Thực hiện bằng cách thay tất cả các giá trị lớn hơn 50 thành 50 và dưới 10 thành 10, các giá trị còn lại giữ nguyên."
   ]
  },
  {
   "cell_type": "code",
   "execution_count": 5,
   "id": "6b600cfd",
   "metadata": {
    "scrolled": true
   },
   "outputs": [
    {
     "data": {
      "text/plain": [
       "array([[38, 13, 50, 10],\n",
       "       [50, 10, 50, 50],\n",
       "       [17, 10, 50, 50],\n",
       "       [10, 26, 50, 21]])"
      ]
     },
     "execution_count": 5,
     "metadata": {},
     "output_type": "execute_result"
    }
   ],
   "source": [
    "new_arr2d = np.where(arr2d > 50, 50, arr2d)\n",
    "new_arr2d = np.where(new_arr2d < 10, 10, new_arr2d)\n",
    "new_arr2d"
   ]
  },
  {
   "cell_type": "code",
   "execution_count": null,
   "id": "0e9daf3f",
   "metadata": {},
   "outputs": [],
   "source": []
  }
 ],
 "metadata": {
  "kernelspec": {
   "display_name": "Python 3 (ipykernel)",
   "language": "python",
   "name": "python3"
  },
  "language_info": {
   "codemirror_mode": {
    "name": "ipython",
    "version": 3
   },
   "file_extension": ".py",
   "mimetype": "text/x-python",
   "name": "python",
   "nbconvert_exporter": "python",
   "pygments_lexer": "ipython3",
   "version": "3.10.6"
  }
 },
 "nbformat": 4,
 "nbformat_minor": 5
}
