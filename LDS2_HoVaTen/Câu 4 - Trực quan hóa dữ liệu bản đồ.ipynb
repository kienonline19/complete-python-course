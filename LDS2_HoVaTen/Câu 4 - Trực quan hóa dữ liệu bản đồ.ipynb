{
 "cells": [
  {
   "cell_type": "markdown",
   "id": "99912fea",
   "metadata": {},
   "source": [
    "## Cho dữ liệu US_Unemployment_Oct2012.csv và us-states.json, thực hiện các yêu cầu sau:"
   ]
  },
  {
   "cell_type": "markdown",
   "id": "a08da177",
   "metadata": {},
   "source": [
    "1. Đọc dữ liệu US_Unemployment_Oct2012.csv, hiển thị thông tin chung của dữ liệu bao gồm : head, tail, info, describe"
   ]
  },
  {
   "cell_type": "code",
   "execution_count": 1,
   "id": "703c278d",
   "metadata": {},
   "outputs": [],
   "source": [
    "import pandas as pd\n",
    "import matplotlib.pyplot as plt"
   ]
  },
  {
   "cell_type": "code",
   "execution_count": null,
   "id": "89c405c1",
   "metadata": {},
   "outputs": [],
   "source": []
  }
 ],
 "metadata": {
  "kernelspec": {
   "display_name": "Python 3 (ipykernel)",
   "language": "python",
   "name": "python3"
  },
  "language_info": {
   "codemirror_mode": {
    "name": "ipython",
    "version": 3
   },
   "file_extension": ".py",
   "mimetype": "text/x-python",
   "name": "python",
   "nbconvert_exporter": "python",
   "pygments_lexer": "ipython3",
   "version": "3.10.6"
  }
 },
 "nbformat": 4,
 "nbformat_minor": 5
}
