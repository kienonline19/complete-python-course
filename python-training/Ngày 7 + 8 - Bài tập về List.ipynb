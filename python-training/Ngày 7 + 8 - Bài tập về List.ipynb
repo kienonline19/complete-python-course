{
 "cells": [
  {
   "cell_type": "markdown",
   "id": "45bd8517",
   "metadata": {},
   "source": [
    "<h2 style='color: red;'>Cho một danh sách: friends = ['Jack', 'John', 'Kenny', 'Mary', 'Bob', 'Bin', 'Julia', 'Mark']</h2>\n",
    "<ol style=\"color: green;\">\n",
    "    <li>Lấy ra phần tử đầu cuối và giữa danh sách</li>\n",
    "    <li>Xóa phần tử cuối cùng của danh sách</li>\n",
    "    <li>Thêm <code>'Lisa'</code> vào đầu của danh sách</li>\n",
    "    <li>Sắp xếp danh sách theo thứ tự bảng chữ cái</li>\n",
    "    <li>Đảo ngược lại danh sách</li>\n",
    "    <li>Tìm vị trí của <code>'Mary'</code> trong danh sách</li>\n",
    "    <li>Thêm một danh sách mới vào đầu và cuối của danh sách cũ <code>\"['John Doe', 'Max', 'Florence', 'Buppp']\"</code></li>\n",
    "    <li>Kiểm tra xem danh sách có trống hay không ?</li>\n",
    "    <li>Có bao nhiêu người bạn trong danh sách</li>\n",
    "    <li>Kiểm tra xem tên bạn có nằm trong danh sách hay không ?</li>\n",
    "    <li>Duyệt qua danh sách, in mỗi người bạn trên một dòng riêng biệt</li>\n",
    "    <li>In ra một chuỗi có dạng: [friend1], [friend2], ..., [friend(n - 1)] and [friendn]</li>\n",
    "    <li>Tạo ra một bản sao của danh sách ban đầu, kiểm tra xem 2 danh sách có cùng giá trị không ?</li>\n",
    "    <li><a href='https://pynative.com/python-list-exercise-with-solutions/'>Bài tập làm thêm</a></li>\n",
    "</ol>"
   ]
  }
 ],
 "metadata": {
  "kernelspec": {
   "display_name": "Python 3 (ipykernel)",
   "language": "python",
   "name": "python3"
  },
  "language_info": {
   "codemirror_mode": {
    "name": "ipython",
    "version": 3
   },
   "file_extension": ".py",
   "mimetype": "text/x-python",
   "name": "python",
   "nbconvert_exporter": "python",
   "pygments_lexer": "ipython3",
   "version": "3.10.4"
  }
 },
 "nbformat": 4,
 "nbformat_minor": 5
}
