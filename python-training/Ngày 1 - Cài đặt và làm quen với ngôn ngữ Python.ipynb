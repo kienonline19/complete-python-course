{
 "cells": [
  {
   "cell_type": "markdown",
   "id": "6f80d356",
   "metadata": {},
   "source": [
    "<h2 style='color: red;'>1. Cài đặt Python và trình soạn thảo mã nguồn visual studio code</h2>"
   ]
  },
  {
   "cell_type": "markdown",
   "id": "da55596c",
   "metadata": {},
   "source": [
    "<h3 style='color: green'>Link tải:</h3>\n"
   ]
  },
  {
   "cell_type": "markdown",
   "id": "23628af8",
   "metadata": {},
   "source": [
    "<ul>\n",
    "    <li><a href='https://www.python.org/downloads/release/python-3913/' target='_blank'>Python</a></li>\n",
    "    <li><a href='https://code.visualstudio.com/download' target='_blank'>Visual studio code</a></li>\n",
    "</ul>"
   ]
  },
  {
   "cell_type": "markdown",
   "id": "5ff6ec19",
   "metadata": {},
   "source": [
    "<h2 style='color: red;'>2. Cấu hình Python với vscode và tải một số extension cho vscode</h2>\n",
    "<ul>\n",
    "    <li><a href='https://marketplace.visualstudio.com/items?itemName=ms-python.python' target='_blank'>Python Extension</a></li>\n",
    "    <li><a href='https://marketplace.visualstudio.com/items?itemName=formulahendry.code-runner' target='_blank'>Code Runner</a></li>\n",
    "    <li><a href='https://marketplace.visualstudio.com/items?itemName=adpyke.codesnap' target='_blank'>CodeSnap</a></li>\n",
    "</ul>"
   ]
  },
  {
   "cell_type": "markdown",
   "id": "3af398c8",
   "metadata": {},
   "source": [
    "<h2 style='color: red;'>3. Viết chương trình đầu tiên với ngôn ngữ Python</h2>"
   ]
  },
  {
   "cell_type": "code",
   "execution_count": 1,
   "id": "e9e96a4d",
   "metadata": {},
   "outputs": [
    {
     "name": "stdout",
     "output_type": "stream",
     "text": [
      "Hello World!\n"
     ]
    }
   ],
   "source": [
    "print(\"Hello World!\") # In chuỗi 'Hello World!' ra màn hình"
   ]
  },
  {
   "cell_type": "markdown",
   "id": "af97a2a2",
   "metadata": {},
   "source": [
    "<h2 style='color: red;'>4. Cơ bản về hàm print</h2>"
   ]
  },
  {
   "cell_type": "markdown",
   "id": "d16f8a69",
   "metadata": {},
   "source": [
    "<img src='img/print1.png' align='left'>"
   ]
  },
  {
   "cell_type": "code",
   "execution_count": 2,
   "id": "35746099",
   "metadata": {},
   "outputs": [
    {
     "name": "stdout",
     "output_type": "stream",
     "text": [
      "1\n",
      "True\n",
      "3.14159\n"
     ]
    }
   ],
   "source": [
    "print(1) # In số nguyên 1 ra ngoài màn hình\n",
    "print(True) # In giá trị Boolean True ra ngoài màn hình\n",
    "print(3.14159) # In số thực 3.14159 ra màn hình"
   ]
  },
  {
   "cell_type": "code",
   "execution_count": 3,
   "id": "9ea21365",
   "metadata": {},
   "outputs": [
    {
     "name": "stdout",
     "output_type": "stream",
     "text": [
      "1 2 3 4\n",
      "a b c d\n",
      "True False True False\n",
      "1.5 2.5 3.5 5.6\n"
     ]
    }
   ],
   "source": [
    "# In nhiều giá trị trên cùng một dòng cách nhau bởi khoảng trắng\n",
    "print(1, 2, 3, 4)\n",
    "print('a', 'b', 'c', 'd')\n",
    "print(True, False, True, False)\n",
    "print(1.5, 2.5, 3.5, 5.6)"
   ]
  },
  {
   "cell_type": "code",
   "execution_count": 4,
   "id": "cad095eb",
   "metadata": {},
   "outputs": [
    {
     "name": "stdout",
     "output_type": "stream",
     "text": [
      "1 % 2 % 3 % 4\n",
      "1 $-&& 1 $-&& 2 $-&& 2\n"
     ]
    }
   ],
   "source": [
    "# In các giá trị trên cùng một dòng cách nhau bởi một chuỗi phân cách\n",
    "print(1, 2, 3, 4, sep=' % ')\n",
    "print(1, '1', 2, '2', sep=' $-&& ')"
   ]
  },
  {
   "cell_type": "code",
   "execution_count": 5,
   "id": "4e14dd87",
   "metadata": {},
   "outputs": [
    {
     "name": "stdout",
     "output_type": "stream",
     "text": [
      "Đây là dòng 1\n",
      "Đây là dòng 2\n"
     ]
    }
   ],
   "source": [
    "# In các giá trị trên nhiều dòng\n",
    "print('Đây là dòng 1')\n",
    "print(\"Đây là dòng 2\")"
   ]
  },
  {
   "cell_type": "code",
   "execution_count": 6,
   "id": "f0adf44e",
   "metadata": {},
   "outputs": [
    {
     "name": "stdout",
     "output_type": "stream",
     "text": [
      "Đây là dòng 1, đây vẫn là dòng 1\n"
     ]
    }
   ],
   "source": [
    "# In trên cùng dòng\n",
    "print('Đây là dòng 1', end=', ')\n",
    "print('đây vẫn là dòng 1')"
   ]
  },
  {
   "cell_type": "markdown",
   "id": "c4c9f4b5",
   "metadata": {},
   "source": [
    "<h2 style='color: red;'>5. Tài liệu đọc thêm về hàm print trong Python</h2>"
   ]
  },
  {
   "cell_type": "markdown",
   "id": "0daa46b8",
   "metadata": {},
   "source": [
    "[Print function](https://www.w3schools.com/python/ref_func_print.asp)"
   ]
  },
  {
   "cell_type": "markdown",
   "id": "086864fb",
   "metadata": {},
   "source": [
    "<h2 style='color: red;'>6. Bài tập</h2>"
   ]
  },
  {
   "cell_type": "markdown",
   "id": "35e1233d",
   "metadata": {},
   "source": [
    "1. In tuổi của bạn ra ngoài màn hình\n",
    "2. In số PI ra ngoài màn hình\n",
    "3. In họ và tên của bạn ra ngoài màn hình\n",
    "4. In những người bạn của bạn ra ngoài màn hình theo định dạng ví dụ như sau: [bạn 1], [bạn 2], ..., [bạn n]"
   ]
  },
  {
   "cell_type": "markdown",
   "id": "462aecb6",
   "metadata": {},
   "source": [
    "<h2 style='color: red;'>7. Đáp án</h2>"
   ]
  },
  {
   "cell_type": "markdown",
   "id": "cf103cae",
   "metadata": {},
   "source": [
    "<ol>\n",
    "    <li><details>\n",
    "        <summary>In tuổi của bạn ra ngoài màn hình</summary>\n",
    "        <p>print(25) # thay số 25 bằng tuổi của bạn nhé</p>\n",
    "        </details></li>\n",
    "    <li><details>\n",
    "        <summary>In số PI ra ngoài màn hình</summary>\n",
    "        <p>print(3.14159) # lấy xấp xỉ 5 chữ số sau dấu (.) thập phân</p>\n",
    "        </details></li>\n",
    "    <li><details>\n",
    "        <summary>In họ và tên của bạn ra ngoài màn hình</summary>\n",
    "        <p>print(\"Nguyễn Xuân Kiên\") # thay bằng họ và tên của bạn nhé</p>\n",
    "        </details></li>\n",
    "    <li><details>\n",
    "        <summary>In những người bạn của bạn ra ngoài màn hình theo định dạng ví dụ như sau: [bạn 1], [bạn 2], ..., [bạn n]</summary>\n",
    "        <p>print('Hà', 'Hương', 'Yến', 'Bảo Anh', 'Giang', 'Huyền', sep=', ') # thay bằng tên bạn bè của bạn nhé</p>\n",
    "        </details></li>\n",
    "</ol>"
   ]
  },
  {
   "cell_type": "markdown",
   "id": "c7e19fd2",
   "metadata": {},
   "source": [
    "<h2 style='color: red;'>8. Bài tập làm thêm</h2>"
   ]
  },
  {
   "cell_type": "markdown",
   "id": "bb68d7e1",
   "metadata": {},
   "source": [
    "1. In trái tim màu xanh lá bằng lệnh print. Gợi ý: sử dụng mã U+1F49A, [Read More](https://unicode-table.com/en/)\n",
    "2. In một đoạn trong bài thơ [Bếp Lửa](https://www.thivien.net/B%E1%BA%B1ng-Vi%E1%BB%87t/B%E1%BA%BFp-l%E1%BB%ADa/poem-lgCJ5h32csNKs00pNZOu3g) bằng lệnh print. "
   ]
  },
  {
   "cell_type": "markdown",
   "id": "6a720384",
   "metadata": {},
   "source": [
    "![Title](img/bep_lua.png)"
   ]
  }
 ],
 "metadata": {
  "kernelspec": {
   "display_name": "Python 3 (ipykernel)",
   "language": "python",
   "name": "python3"
  },
  "language_info": {
   "codemirror_mode": {
    "name": "ipython",
    "version": 3
   },
   "file_extension": ".py",
   "mimetype": "text/x-python",
   "name": "python",
   "nbconvert_exporter": "python",
   "pygments_lexer": "ipython3",
   "version": "3.10.4"
  }
 },
 "nbformat": 4,
 "nbformat_minor": 5
}
