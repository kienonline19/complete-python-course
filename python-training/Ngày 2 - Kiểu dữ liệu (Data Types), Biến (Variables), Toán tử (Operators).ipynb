{
 "cells": [
  {
   "cell_type": "markdown",
   "id": "0fb4a18d",
   "metadata": {},
   "source": [
    "<h2 style=\"color: red\">1. Kiểu dữ liệu (Data Types)</h2>"
   ]
  },
  {
   "cell_type": "markdown",
   "id": "951b8f1a",
   "metadata": {},
   "source": [
    "<h3 style='color: green'>a. Kiểu dữ liệu có sẵn </h3>"
   ]
  },
  {
   "cell_type": "code",
   "execution_count": 1,
   "id": "3717d743",
   "metadata": {},
   "outputs": [
    {
     "name": "stdout",
     "output_type": "stream",
     "text": [
      "5 10 0 -1\n",
      "<class 'int'> <class 'int'> <class 'int'> <class 'int'>\n"
     ]
    }
   ],
   "source": [
    "# Kiểu số nguyên integer (int)\n",
    "# 5, 10, 0, -1, ... là các giá trị thuộc kiểu int (kiểu số nguyên)\n",
    "print(5, 10, 0, -1)\n",
    "print(type(5), type(10), type(0), type(-1))"
   ]
  },
  {
   "cell_type": "code",
   "execution_count": 2,
   "id": "8f1652e6",
   "metadata": {},
   "outputs": [
    {
     "name": "stdout",
     "output_type": "stream",
     "text": [
      "1.25 4.55 0.12 -4.5\n",
      "<class 'float'> <class 'float'> <class 'float'> <class 'float'>\n"
     ]
    }
   ],
   "source": [
    "# Kiểu số thực float\n",
    "# 1.25, 4.55, 0.12, -4.5, ... là các giá trị thuộc kiểu số thực\n",
    "print(1.25, 4.55, 0.12, -4.5)\n",
    "print(type(1.25), type(4.55), type(0.12), type(-4.5))"
   ]
  },
  {
   "cell_type": "code",
   "execution_count": 3,
   "id": "d416c16e",
   "metadata": {},
   "outputs": [
    {
     "name": "stdout",
     "output_type": "stream",
     "text": [
      "Tran Thanh Hung 27 US Tai Chinh\n",
      "<class 'str'> <class 'str'> <class 'str'> <class 'str'>\n"
     ]
    }
   ],
   "source": [
    "# Kiểu chuỗi ký tự string (str)\n",
    "# 'Tran Thanh Hung', \"27\", '''US''', \"\"\"Tai Chinh\"\"\", ... là các giá trị thuộc kiểu chuỗi\n",
    "print('Tran Thanh Hung', \"27\", '''US''', \"\"\"Tai Chinh\"\"\")\n",
    "print(type('Tran Thanh Hung'), type(\"27\"), type('''US'''), type(\"\"\"Tai Chinh\"\"\"))"
   ]
  },
  {
   "cell_type": "code",
   "execution_count": 4,
   "id": "7c5dad75",
   "metadata": {},
   "outputs": [
    {
     "name": "stdout",
     "output_type": "stream",
     "text": [
      "True False\n",
      "<class 'bool'> <class 'bool'>\n"
     ]
    }
   ],
   "source": [
    "# Kiểu Boolean đúng/sai\n",
    "# Chỉ bao gồm hai giá trị thuộc kiểu này đó là: True và False\n",
    "print(True, False)\n",
    "print(type(True), type(False))"
   ]
  },
  {
   "cell_type": "code",
   "execution_count": 5,
   "id": "2de05ba4",
   "metadata": {},
   "outputs": [],
   "source": [
    "# Còn nhiều kiểu nữa nhưng ban đầu chúng ta chỉ quan tâm tới những kiểu này trước"
   ]
  },
  {
   "cell_type": "markdown",
   "id": "8416b53e",
   "metadata": {},
   "source": [
    "<h2 style=\"color: red\">2. Biến (Variables)</h2>"
   ]
  },
  {
   "cell_type": "code",
   "execution_count": 6,
   "id": "343347b7",
   "metadata": {},
   "outputs": [
    {
     "name": "stdout",
     "output_type": "stream",
     "text": [
      "3\n"
     ]
    }
   ],
   "source": [
    "# Biến là một cái tên cho một giá trị\n",
    "# Gía trị của biến có thể thay đổi trong suốt quá trình thực thi của chương trình\n",
    "# Ví dụ:\n",
    "x = 3 # x là một biến có giá trị bằng số nguyên 3\n",
    "print(x) # In giá trị của biến ra ngoài màn hình"
   ]
  },
  {
   "cell_type": "code",
   "execution_count": 7,
   "id": "61954e1f",
   "metadata": {},
   "outputs": [
    {
     "name": "stdout",
     "output_type": "stream",
     "text": [
      "<class 'int'>\n"
     ]
    }
   ],
   "source": [
    "# Xác định kiểu của biến\n",
    "print(type(x))"
   ]
  },
  {
   "cell_type": "code",
   "execution_count": 8,
   "id": "f69a8e4c",
   "metadata": {},
   "outputs": [
    {
     "name": "stdout",
     "output_type": "stream",
     "text": [
      "27 Hung True\n"
     ]
    }
   ],
   "source": [
    "# Một số ví dụ khác về biến\n",
    "age = 27\n",
    "first_name = 'Hung'\n",
    "is_married = True\n",
    "\n",
    "print(age, first_name, is_married)"
   ]
  },
  {
   "cell_type": "code",
   "execution_count": 9,
   "id": "8b67ff57",
   "metadata": {},
   "outputs": [
    {
     "ename": "SyntaxError",
     "evalue": "invalid decimal literal (2492127635.py, line 9)",
     "output_type": "error",
     "traceback": [
      "\u001b[1;36m  Input \u001b[1;32mIn [9]\u001b[1;36m\u001b[0m\n\u001b[1;33m    1last_name = 'Tran'\u001b[0m\n\u001b[1;37m    ^\u001b[0m\n\u001b[1;31mSyntaxError\u001b[0m\u001b[1;31m:\u001b[0m invalid decimal literal\n"
     ]
    }
   ],
   "source": [
    "# Quy tắc đặt tên biến\n",
    "\"\"\"\n",
    "* Tên biến phải bắt đầu bằng chữ cái, dấu gạch dưới (_)\n",
    "* Không bắt đầu bằng chữ số\n",
    "* Không chứa ký tự đặc biệt ví dụ: @, #, $, %, ^, &, *, ?, /, \\, ~, ...\n",
    "* Tên biến phải có ý nghĩa, thường giữa các từ ngăn cách với nhau bằng (_) ví dụ: last_name, hobbies, city, capital, ...\n",
    "\"\"\"\n",
    "last_name = 'Tran'\n",
    "1last_name = 'Tran'"
   ]
  },
  {
   "cell_type": "markdown",
   "id": "da05f256",
   "metadata": {},
   "source": [
    "<h2 style=\"color: red\">3. Toán tử (Operators)</h2>"
   ]
  },
  {
   "cell_type": "code",
   "execution_count": 10,
   "id": "385e4753",
   "metadata": {},
   "outputs": [
    {
     "name": "stdout",
     "output_type": "stream",
     "text": [
      "3 + 4 = 7\n",
      "3 - 4 = -1\n",
      "3 x 4 = 12\n",
      "3 : 4 = 0.75\n",
      "3 // 4 = 0\n",
      "3 ^ 4 = 81\n",
      "3 mod 4 = 3\n"
     ]
    }
   ],
   "source": [
    "# Có rất nhiều loại toán tử trong Python \n",
    "# Trong hôm nay chúng ta chỉ quan tâm tới toán tử số học\n",
    "# Toán tử số học: +, -, *, /, //, **, %\n",
    "# Ví dụ:\n",
    "x = 3\n",
    "y = 4\n",
    "\n",
    "z = x + y\n",
    "print(x, '+', y, '=', z)\n",
    "\n",
    "z = x - y\n",
    "print(x, '-', y, '=', z)\n",
    "\n",
    "z = x * y\n",
    "print(x, 'x', y, '=', z)\n",
    "\n",
    "z = x / y\n",
    "print(x, ':', y, '=', z)\n",
    "\n",
    "z = x // y\n",
    "print(x, '//', y, '=', z)\n",
    "\n",
    "z = x ** y\n",
    "print(x, '^', y, '=', z)\n",
    "\n",
    "z = x % y\n",
    "print(x, 'mod', y, '=', z)"
   ]
  },
  {
   "cell_type": "markdown",
   "id": "e23c3c0a",
   "metadata": {},
   "source": [
    "<h2 style=\"color: red\">4. Bài tập</h2>"
   ]
  },
  {
   "cell_type": "markdown",
   "id": "fc3c7db2",
   "metadata": {},
   "source": [
    "<ol>\n",
    "    <li>Định nghĩa hai biến x, y có giá trị lần lượt là 4, 0.75</li>\n",
    "    <li>Xác định kiểu của x, y</li>\n",
    "    <li>Thực hiện các phép toán +, -, *, /, //, **, % trên hai biến x, y</li>\n",
    "    <li>(Nâng cao) Viết chương trình nhập vào năm sinh của bạn, tính tuổi dựa vào năm hiện tại</li>\n",
    "</ol>"
   ]
  },
  {
   "cell_type": "markdown",
   "id": "e968dd69",
   "metadata": {},
   "source": [
    "<h2 style=\"color: red\">5. Tài liệu tham khảo</h2>\n",
    "<ul>\n",
    "    <li><a href='https://www.w3schools.com/python/python_datatypes.asp'>Kiểu dữ liệu</a></li>\n",
    "    <li><a href='https://www.w3schools.com/python/python_variables.asp'>Biến</a></li>\n",
    "    <li><a href='https://www.w3schools.com/python/python_operators.asp'>Toán tử</a></li>\n",
    "    <li><a href='https://www.w3schools.com/python/python_user_input.asp'>Hàm input</a></li>\n",
    "</ul>"
   ]
  }
 ],
 "metadata": {
  "kernelspec": {
   "display_name": "Python 3 (ipykernel)",
   "language": "python",
   "name": "python3"
  },
  "language_info": {
   "codemirror_mode": {
    "name": "ipython",
    "version": 3
   },
   "file_extension": ".py",
   "mimetype": "text/x-python",
   "name": "python",
   "nbconvert_exporter": "python",
   "pygments_lexer": "ipython3",
   "version": "3.10.4"
  }
 },
 "nbformat": 4,
 "nbformat_minor": 5
}
