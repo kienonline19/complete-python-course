{
 "cells": [
  {
   "cell_type": "code",
   "execution_count": 3,
   "id": "3f2e674e",
   "metadata": {},
   "outputs": [
    {
     "name": "stdout",
     "output_type": "stream",
     "text": [
      "Nguyen Thi Hien Trang\n"
     ]
    }
   ],
   "source": [
    "print('Nguyen Thi Hien Trang') # shift + enter single quotes '' double quotes \"\""
   ]
  },
  {
   "cell_type": "code",
   "execution_count": 5,
   "id": "061e4cd4",
   "metadata": {},
   "outputs": [
    {
     "name": "stdout",
     "output_type": "stream",
     "text": [
      "1 % 2 % 3 % 4\n"
     ]
    }
   ],
   "source": [
    "print(1, '%', 2, '%', 3, '%', 4)"
   ]
  },
  {
   "cell_type": "code",
   "execution_count": 7,
   "id": "d7beeee4",
   "metadata": {},
   "outputs": [
    {
     "name": "stdout",
     "output_type": "stream",
     "text": [
      "1 % 2 % 3 % 4\n"
     ]
    }
   ],
   "source": [
    "print(1, 2, 3, 4, sep=' % ')"
   ]
  },
  {
   "cell_type": "code",
   "execution_count": 9,
   "id": "3500620d",
   "metadata": {},
   "outputs": [
    {
     "name": "stdout",
     "output_type": "stream",
     "text": [
      "Line1 Line2\n"
     ]
    }
   ],
   "source": [
    "print('Line1', end=' ')\n",
    "print('Line2')"
   ]
  },
  {
   "cell_type": "code",
   "execution_count": 10,
   "id": "e63646f4",
   "metadata": {},
   "outputs": [
    {
     "name": "stdout",
     "output_type": "stream",
     "text": [
      "🥰\n"
     ]
    }
   ],
   "source": [
    "print('🥰')"
   ]
  },
  {
   "cell_type": "code",
   "execution_count": 11,
   "id": "b24037ba",
   "metadata": {},
   "outputs": [
    {
     "name": "stdout",
     "output_type": "stream",
     "text": [
      "💘❣️💟💓💖💝\n"
     ]
    }
   ],
   "source": [
    "print('💘❣️💟💓💖💝')"
   ]
  },
  {
   "cell_type": "code",
   "execution_count": 12,
   "id": "0b923eed",
   "metadata": {},
   "outputs": [
    {
     "name": "stdout",
     "output_type": "stream",
     "text": [
      "\n",
      "88                     88 88  \n",
      "88                     88 88  \n",
      "88                     88 88  \n",
      "88,dPPYba,  ,adPPYYba, 88 88  \n",
      "88P'    \"8a \"\"     `Y8 88 88  \n",
      "88       d8 ,adPPPPP88 88 88  \n",
      "88b,   ,a8\" 88,    ,88 88 88  \n",
      "8Y\"Ybbd8\"'  `\"8bbdP\"Y8 88 88  \n",
      "\n"
     ]
    }
   ],
   "source": [
    "print('''\n",
    "88                     88 88  \n",
    "88                     88 88  \n",
    "88                     88 88  \n",
    "88,dPPYba,  ,adPPYYba, 88 88  \n",
    "88P'    \"8a \"\"     `Y8 88 88  \n",
    "88       d8 ,adPPPPP88 88 88  \n",
    "88b,   ,a8\" 88,    ,88 88 88  \n",
    "8Y\"Ybbd8\"'  `\"8bbdP\"Y8 88 88  \n",
    "''')"
   ]
  },
  {
   "cell_type": "code",
   "execution_count": 13,
   "id": "cc0373e5",
   "metadata": {},
   "outputs": [
    {
     "name": "stdout",
     "output_type": "stream",
     "text": [
      "Line0\n",
      "Line1\n",
      "Line2\n",
      "Line3\n",
      "Line4\n"
     ]
    }
   ],
   "source": [
    "print(\"\"\"Line0\n",
    "Line1\n",
    "Line2\n",
    "Line3\n",
    "Line4\"\"\")"
   ]
  },
  {
   "cell_type": "code",
   "execution_count": 15,
   "id": "acf1733e",
   "metadata": {},
   "outputs": [
    {
     "name": "stdout",
     "output_type": "stream",
     "text": [
      "Line0Line1Line2Line3Line\n"
     ]
    }
   ],
   "source": [
    "print('Line0\\\n",
    "Line1\\\n",
    "Line2\\\n",
    "Line3\\\n",
    "Line')"
   ]
  },
  {
   "cell_type": "code",
   "execution_count": 16,
   "id": "d2a7fcd5",
   "metadata": {},
   "outputs": [
    {
     "name": "stdout",
     "output_type": "stream",
     "text": [
      "Trang My Nga\n"
     ]
    }
   ],
   "source": [
    "print('Trang', 'My', 'Nga')"
   ]
  },
  {
   "cell_type": "code",
   "execution_count": 17,
   "id": "aa99dfee",
   "metadata": {},
   "outputs": [
    {
     "name": "stdout",
     "output_type": "stream",
     "text": [
      "Hello How are you?\n"
     ]
    }
   ],
   "source": [
    "print('Hello', 'How are you?')"
   ]
  },
  {
   "cell_type": "code",
   "execution_count": 18,
   "id": "87074f29",
   "metadata": {},
   "outputs": [
    {
     "name": "stdout",
     "output_type": "stream",
     "text": [
      "('banana', 'cherry', 'mango')\n"
     ]
    }
   ],
   "source": [
    "x = ('banana', 'cherry', 'mango')\n",
    "print(x)"
   ]
  },
  {
   "cell_type": "code",
   "execution_count": 19,
   "id": "494f9686",
   "metadata": {},
   "outputs": [
    {
     "data": {
      "text/plain": [
       "tuple"
      ]
     },
     "execution_count": 19,
     "metadata": {},
     "output_type": "execute_result"
    }
   ],
   "source": [
    "type(x)"
   ]
  },
  {
   "cell_type": "code",
   "execution_count": 21,
   "id": "1291fe9c",
   "metadata": {},
   "outputs": [
    {
     "name": "stdout",
     "output_type": "stream",
     "text": [
      "banana <3 cherry <3 mango\n"
     ]
    }
   ],
   "source": [
    "print('banana', 'cherry', 'mango', sep=' <3 ')"
   ]
  },
  {
   "cell_type": "code",
   "execution_count": null,
   "id": "08d7504b",
   "metadata": {},
   "outputs": [],
   "source": []
  }
 ],
 "metadata": {
  "kernelspec": {
   "display_name": "Python 3 (ipykernel)",
   "language": "python",
   "name": "python3"
  },
  "language_info": {
   "codemirror_mode": {
    "name": "ipython",
    "version": 3
   },
   "file_extension": ".py",
   "mimetype": "text/x-python",
   "name": "python",
   "nbconvert_exporter": "python",
   "pygments_lexer": "ipython3",
   "version": "3.10.6"
  }
 },
 "nbformat": 4,
 "nbformat_minor": 5
}
