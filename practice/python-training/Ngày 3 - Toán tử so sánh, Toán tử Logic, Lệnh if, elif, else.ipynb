{
 "cells": [
  {
   "cell_type": "markdown",
   "id": "e593d321",
   "metadata": {},
   "source": [
    "<h2 style='color: red;'>1. Toán tử so sánh (Comparision Operators - dùng để so sánh hai giá trị)</h2>\n",
    "<h3 style='color: green;'>Bao gồm:</h3>\n",
    "<ul>\n",
    "  <li>&gt;&emsp;&emsp;Lớn hơn</li>\n",
    "  <li>&lt;&emsp;&emsp;Nhỏ hơn</li>\n",
    "  <li>&ge;&emsp;&emsp;Lớn hơn hay bằng</li>\n",
    "  <li>&le;&emsp;&emsp;Nhỏ hơn hay bằng</li>\n",
    "  <li>!=&nbsp;&nbsp;&nbsp;&nbsp;&nbsp;&nbsp;Khác bằng</li>\n",
    "  <li>==&emsp;&nbsp;Bằng bằng</li>\n",
    "</ul>"
   ]
  },
  {
   "cell_type": "code",
   "execution_count": 1,
   "id": "9753a17d",
   "metadata": {},
   "outputs": [
    {
     "name": "stdout",
     "output_type": "stream",
     "text": [
      "False\n",
      "True\n",
      "True\n",
      "True\n",
      "False\n",
      "False\n"
     ]
    }
   ],
   "source": [
    "# Toán tử so sánh dùng để so sánh hai giá trị và trẻ về giá trị thuộc kiểu boolean (True/False)\n",
    "# Ví dụ\n",
    "print(2 > 3) # False\n",
    "print(3.0 >= 3) # True\n",
    "print(4 < 5) # True\n",
    "print('a' <= 'b') # True - so sánh hai mã ASCII của hai ký tự a (97) và b (98), \n",
    "                  # sử dụng ord(char) để lấy mã ASCII của một ký tự bất kỳ\n",
    "print(1 == 2) # False\n",
    "print(True != True) # False"
   ]
  },
  {
   "cell_type": "markdown",
   "id": "f71b95a8",
   "metadata": {},
   "source": [
    "<h2 style='color: red;'>1. Toán tử logic (Logical Operators - dùng để nối các biểu thức so sánh)</h2>\n",
    "<h3 style='color: green;'>Bao gồm:</h3>\n",
    "<ul>\n",
    "  <li><code>and</code></li>\n",
    "  <li><code>or</code></li>\n",
    "  <li><code>not</code></li>\n",
    "</ul>"
   ]
  },
  {
   "cell_type": "code",
   "execution_count": 2,
   "id": "400f5240",
   "metadata": {},
   "outputs": [
    {
     "name": "stdout",
     "output_type": "stream",
     "text": [
      "False\n",
      "False\n",
      "True\n",
      "True\n"
     ]
    }
   ],
   "source": [
    "\"\"\"\n",
    "* Toán tử and: trả về giá trị thứ nhất nếu False ngược lại trả về giá trị thứ hai\n",
    "* Toán tử or: trả về giá trị thứ nhất nếu True ngược lại trả về giá trị thứ hai\n",
    "* Toán tử not: đảo ngược giá trị True thành False và ngược lại\n",
    "* Độ ưu tiên của các toán tử: (toán tử so sánh) > not > and > or\n",
    "\"\"\"\n",
    "print(1 > 2 and 2 > 3) # False and False = False\n",
    "print(2 > 1 and 3 > 4) # True and False = False\n",
    "print(10 > 50 or 67 > 2) # False or True = True\n",
    "print(not 3 > 5) # not False = True}"
   ]
  },
  {
   "cell_type": "code",
   "execution_count": 3,
   "id": "bd8fc7af",
   "metadata": {},
   "outputs": [
    {
     "name": "stdout",
     "output_type": "stream",
     "text": [
      "False\n",
      "False\n",
      "False\n"
     ]
    }
   ],
   "source": [
    "\"\"\"\n",
    "Hàm bool biến một giá trị thành True/False\n",
    "Các giá trị khi sử dụng hàm bool(value) => False gọi là Falsy\n",
    "bao gồm:\n",
    "* 0, 0.0, None, False, [], set(), {}, tuple(), 0j, '', range(0) ... \n",
    "\"\"\"\n",
    "# Các giá trị số cho kết quả False\n",
    "print(bool(0))\n",
    "print(bool(0.0))\n",
    "print(bool(0j))"
   ]
  },
  {
   "cell_type": "code",
   "execution_count": 4,
   "id": "24764840",
   "metadata": {},
   "outputs": [
    {
     "name": "stdout",
     "output_type": "stream",
     "text": [
      "False\n",
      "False\n"
     ]
    }
   ],
   "source": [
    "# Các giá trị khác cho kết quả False\n",
    "# None -> No Value\n",
    "# False\n",
    "print(bool(None))\n",
    "print(bool(False))"
   ]
  },
  {
   "cell_type": "code",
   "execution_count": 5,
   "id": "8609e000",
   "metadata": {},
   "outputs": [
    {
     "name": "stdout",
     "output_type": "stream",
     "text": [
      "False\n",
      "False\n",
      "False\n",
      "False\n",
      "False\n"
     ]
    }
   ],
   "source": [
    "# Các tập hợp rỗng cho kết quả False\n",
    "print(bool([]))\n",
    "print(bool(set()))\n",
    "print(bool({}))\n",
    "print(bool(range(0)))\n",
    "print(bool(tuple()))"
   ]
  },
  {
   "cell_type": "code",
   "execution_count": 6,
   "id": "606831cb",
   "metadata": {},
   "outputs": [
    {
     "name": "stdout",
     "output_type": "stream",
     "text": [
      "Linh\n",
      "0\n",
      "2\n",
      "Hung\n",
      "True\n"
     ]
    }
   ],
   "source": [
    "# * Có thể lấy ví dụ như sau: print('Tuan' and 'Linh')\n",
    "#   thì 'Tuan' giá trị đầu tiên là Truthy\n",
    "#   thì nó sẽ trả về giá trị thứ hai 'Linh'\n",
    "# * Còn print(0 and 1) vì 0 giá trị đầu tiên là Falsy nên nó trả về 0 lun\n",
    "print('Tuan' and 'Linh')\n",
    "print(0 and 1)\n",
    "print(1 and 2) # 2\n",
    "print(0 or 'Hung')\n",
    "print(not 0)"
   ]
  },
  {
   "cell_type": "markdown",
   "id": "11b8f042",
   "metadata": {},
   "source": [
    "<h2 style='color: red;'>Bài tập ôn luyện 1</h2>\n",
    "<h3>Cho biết giá trị được in ra bởi những câu lệnh print sau:</h3>\n",
    "<ol>\n",
    "    <li><code>print(-45 &lt; -46)</code></li>\n",
    "    <li><code>print('a' &lt; 'A' and 5 &gt; 10)</code></li>\n",
    "    <li><code>print(0 or [])</code></li>\n",
    "    <li><code>print(not 100)</code></li>\n",
    "    <li><code>print(True or False and True)</code></li>\n",
    "    <li><code>print(not 1 and 2 or 'Hung')</code></li>\n",
    "</ol>\n",
    "<p><strong><em>Lưu ý: dự đoán trước khi chạy</em></strong></p>"
   ]
  },
  {
   "cell_type": "markdown",
   "id": "fd0055d9",
   "metadata": {},
   "source": [
    "<h2 style='color: red;'>3. Điều kiện if</h2>"
   ]
  },
  {
   "cell_type": "markdown",
   "id": "25ad1d0e",
   "metadata": {},
   "source": [
    "<h3 style='color: green;'>Syntax</h3>"
   ]
  },
  {
   "cell_type": "markdown",
   "id": "36f57a0e",
   "metadata": {},
   "source": [
    "![Cú pháp](img/day3.png)"
   ]
  },
  {
   "cell_type": "code",
   "execution_count": 7,
   "id": "6a632a08",
   "metadata": {},
   "outputs": [
    {
     "name": "stdout",
     "output_type": "stream",
     "text": [
      "5 > 2\n"
     ]
    }
   ],
   "source": [
    "\"\"\"\n",
    "Giải thích:\n",
    "Nếu điều kiện 1 đúng (True) thì thực hiện khối lệnh 1\n",
    "Ngược lại nếu điều kiện 2 đúng (True) thì khối lệnh 2 được thực hiện\n",
    "Tương tự với nhiều khối elif tiếp theo\n",
    "Cuối cùng khi không điều kiện nào phía trên thỏa mãn thì khối lệnh n sẽ được thực hiện\n",
    "\"\"\"\n",
    "# Ví dụ\n",
    "if 3 > 4:\n",
    "    print('3 > 4')\n",
    "elif 5 > 2:\n",
    "    print('5 > 2')\n",
    "else:\n",
    "    print('Nothing')"
   ]
  },
  {
   "cell_type": "code",
   "execution_count": 8,
   "id": "3538995f",
   "metadata": {},
   "outputs": [
    {
     "name": "stdout",
     "output_type": "stream",
     "text": [
      "Nothing\n"
     ]
    }
   ],
   "source": [
    "if 3 > 4:\n",
    "    print('3 > 4')\n",
    "elif 2 > 5:\n",
    "    print('2 > 5')\n",
    "else:\n",
    "    print('Nothing')"
   ]
  },
  {
   "cell_type": "code",
   "execution_count": 9,
   "id": "a966e89a",
   "metadata": {},
   "outputs": [
    {
     "name": "stdout",
     "output_type": "stream",
     "text": [
      "1 < 2\n"
     ]
    }
   ],
   "source": [
    "if 1 < 2:\n",
    "    print('1 < 2')\n",
    "elif 2 > 5:\n",
    "    print('2 > 5')\n",
    "else:\n",
    "    print('Nothing')"
   ]
  },
  {
   "cell_type": "markdown",
   "id": "a96174b1",
   "metadata": {},
   "source": [
    "<h2 style='color: red;'>4. Bài tập ôn luyện 2</h2>\n",
    "<ol>\n",
    "    <li><code>Viết chương trình nhập vào tuổi của bạn. Nếu tuổi ít nhất là 18 thì được uống bia, ngược lại uống nước ngọt</code></li>\n",
    "    <li><code>Viết chương trình nhập vào một số, kiếm tra số vừa nhập là chẵn hay lẻ</code></li>\n",
    "    <li><code>Viết chương trình nhập vào một năm bất kỳ, kiểm tra xem năm đó có phải năm nhuận hay không ?</code></li>\n",
    "    <li><code>Viết chương trình nhập vào một password, kiểm tra xem chiều dài password có thỏa mãn hay không ? Chiều dài thỏa mãn nếu có ít nhất 8 ký tự, ngược lại không thỏa mãn</code></li>\n",
    "</ol>"
   ]
  },
  {
   "cell_type": "markdown",
   "id": "a6b4142e",
   "metadata": {},
   "source": [
    "<h2 style='color: red;'>5. Tài liệu tham khảo</h2>"
   ]
  },
  {
   "cell_type": "markdown",
   "id": "86ea6a69",
   "metadata": {},
   "source": [
    "+ [Kiểu dữ liệu](https://www.w3schools.com/python/python_datatypes.asp)\n",
    "+ [Điều kiện if](https://www.w3schools.com/python/python_booleans.asp)\n",
    "+ [Toán tử](https://www.w3schools.com/python/python_operators.asp)"
   ]
  }
 ],
 "metadata": {
  "kernelspec": {
   "display_name": "Python 3 (ipykernel)",
   "language": "python",
   "name": "python3"
  },
  "language_info": {
   "codemirror_mode": {
    "name": "ipython",
    "version": 3
   },
   "file_extension": ".py",
   "mimetype": "text/x-python",
   "name": "python",
   "nbconvert_exporter": "python",
   "pygments_lexer": "ipython3",
   "version": "3.10.4"
  }
 },
 "nbformat": 4,
 "nbformat_minor": 5
}
