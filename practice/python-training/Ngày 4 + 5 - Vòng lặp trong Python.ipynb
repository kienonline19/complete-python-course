{
 "cells": [
  {
   "cell_type": "markdown",
   "id": "5aa41570",
   "metadata": {},
   "source": [
    "<h2 style=\"color: red;\">1. Tại sao cần phải có vòng lặp</h2>\n",
    "<h3 style=\"color: green;\">Bạn hãy thực hiện bài tập đơn giản sau:</h3>\n",
    "<p><em><strong>In ra 10 lần dòng chữ 'Hello World!'</strong></em></p>"
   ]
  },
  {
   "cell_type": "code",
   "execution_count": 1,
   "id": "dbd74ddb",
   "metadata": {},
   "outputs": [
    {
     "name": "stdout",
     "output_type": "stream",
     "text": [
      "Hello World!\n",
      "Hello World!\n",
      "Hello World!\n",
      "Hello World!\n",
      "Hello World!\n",
      "Hello World!\n",
      "Hello World!\n",
      "Hello World!\n",
      "Hello World!\n",
      "Hello World!\n"
     ]
    }
   ],
   "source": [
    "# Có phải theo cách thông thường chúng ta sẽ làm như sau:\n",
    "print(\"Hello World!\")\n",
    "print(\"Hello World!\")\n",
    "print(\"Hello World!\")\n",
    "print(\"Hello World!\")\n",
    "print(\"Hello World!\")\n",
    "print(\"Hello World!\")\n",
    "print(\"Hello World!\")\n",
    "print(\"Hello World!\")\n",
    "print(\"Hello World!\")\n",
    "print(\"Hello World!\")"
   ]
  },
  {
   "cell_type": "code",
   "execution_count": 2,
   "id": "293e1bbb",
   "metadata": {},
   "outputs": [
    {
     "name": "stdout",
     "output_type": "stream",
     "text": [
      "Hello World!\n",
      "Hello World!\n",
      "Hello World!\n",
      "Hello World!\n",
      "Hello World!\n",
      "Hello World!\n",
      "Hello World!\n",
      "Hello World!\n",
      "Hello World!\n",
      "Hello World!\n"
     ]
    }
   ],
   "source": [
    "# Nhưng sự thật là các dòng code này lặp lại nhiều lần => cần một cách để giảm thiểu việc trùng lặp code\n",
    "# => Khái niệm vòng lặp (loops) ra đời\n",
    "\"\"\"\n",
    "Trong Python chúng ta có hai loại vòng lặp:\n",
    "* for loops (vòng lặp for)\n",
    "* while loops (vòng lặp while)\n",
    "\"\"\"\n",
    "# Với bài tập trên chúng ta có thể viết gọn lại sử dụng hai loại vòng lặp như sau:\n",
    "# 1 - Vòng lặp for\n",
    "for _ in range(10):\n",
    "    print('Hello World!')"
   ]
  },
  {
   "cell_type": "code",
   "execution_count": 3,
   "id": "02015185",
   "metadata": {},
   "outputs": [
    {
     "name": "stdout",
     "output_type": "stream",
     "text": [
      "Hello World!\n",
      "Hello World!\n",
      "Hello World!\n",
      "Hello World!\n",
      "Hello World!\n",
      "Hello World!\n",
      "Hello World!\n",
      "Hello World!\n",
      "Hello World!\n",
      "Hello World!\n"
     ]
    }
   ],
   "source": [
    "# 2 - Vòng lặp while\n",
    "i = 0\n",
    "while i < 10:\n",
    "    print('Hello World!')\n",
    "    i += 1"
   ]
  },
  {
   "cell_type": "code",
   "execution_count": 4,
   "id": "80fdab52",
   "metadata": {},
   "outputs": [
    {
     "name": "stdout",
     "output_type": "stream",
     "text": [
      "[0, 1, 2, 3, 4, 5, 6, 7, 8, 9]\n"
     ]
    }
   ],
   "source": [
    "# Nói thêm về range function\n",
    "# Hàm này nhận các tham số bắt đầu (start - required), dừng lại (stop - optional), bước nhảy (step - optional)\n",
    "# range(start, [stop, [step]])\n",
    "# Ví dụ\n",
    "print(list(range(10))) # In ra một danh sách từ 0 đến 9"
   ]
  },
  {
   "cell_type": "code",
   "execution_count": 5,
   "id": "3eed8f71",
   "metadata": {},
   "outputs": [
    {
     "name": "stdout",
     "output_type": "stream",
     "text": [
      "[3, 4, 5, 6, 7, 8]\n"
     ]
    }
   ],
   "source": [
    "# Hàm list dùng để convert một object thành một danh sách\n",
    "print(list(range(3, 9))) # In ra một danh sách từ 3 đến 8"
   ]
  },
  {
   "cell_type": "code",
   "execution_count": 6,
   "id": "03dfc3c3",
   "metadata": {},
   "outputs": [
    {
     "name": "stdout",
     "output_type": "stream",
     "text": [
      "[1, 3, 5, 7, 9]\n"
     ]
    }
   ],
   "source": [
    "print(list(range(1, 10, 2))) # In ra các số lẻ trong [1, 9]"
   ]
  },
  {
   "cell_type": "code",
   "execution_count": 7,
   "id": "7a92b226",
   "metadata": {},
   "outputs": [
    {
     "name": "stdout",
     "output_type": "stream",
     "text": [
      "1 2 3 4 5 6 7 8 9 10 "
     ]
    }
   ],
   "source": [
    "# In ra các số từ 1 đến 10 sử dụng vòng lặp for\n",
    "for i in range(1, 11):\n",
    "    print(i, end=' ')"
   ]
  },
  {
   "cell_type": "code",
   "execution_count": 8,
   "id": "7ed0d469",
   "metadata": {},
   "outputs": [
    {
     "name": "stdout",
     "output_type": "stream",
     "text": [
      "2 4 6 8 10 12 14 16 18 20 "
     ]
    }
   ],
   "source": [
    "# Vòng lặp for kết hợp với if\n",
    "# In ra các số chẵn trong đoạn [1, 20]\n",
    "for x in range(1, 21):\n",
    "    if x % 2 == 0:\n",
    "        print(x, end=' ')"
   ]
  },
  {
   "cell_type": "code",
   "execution_count": 9,
   "id": "4e29e636",
   "metadata": {},
   "outputs": [
    {
     "name": "stdout",
     "output_type": "stream",
     "text": [
      "1 2 3 4 5 "
     ]
    }
   ],
   "source": [
    "# Từ khóa break và continue\n",
    "\"\"\"\n",
    "* break: thoát hoàn toàn ra khỏi vòng lặp chứa nó\n",
    "* continue: nhảy qua vòng lặp hiện tại bắt đầu ở lần lặp mới\n",
    "\"\"\"\n",
    "# Ví dụ:\n",
    "# break\n",
    "for x in range(1, 11):\n",
    "    if x > 5:\n",
    "        break\n",
    "    print(x, end=' ')"
   ]
  },
  {
   "cell_type": "code",
   "execution_count": 10,
   "id": "c103d357",
   "metadata": {},
   "outputs": [
    {
     "name": "stdout",
     "output_type": "stream",
     "text": [
      "1 3 5 7 9 "
     ]
    }
   ],
   "source": [
    "# continue - in ra các số lẻ trong [1, 10]\n",
    "for x in range(1, 11):\n",
    "    if x % 2 == 0:\n",
    "        continue\n",
    "    print(x, end=' ')"
   ]
  },
  {
   "cell_type": "code",
   "execution_count": 11,
   "id": "d4ab4353",
   "metadata": {},
   "outputs": [
    {
     "name": "stdout",
     "output_type": "stream",
     "text": [
      "x = 1 - y = 1\n",
      "x = 1 - y = 2\n",
      "x = 1 - y = 3\n",
      "x = 1 - y = 4\n",
      "x = 1 - y = 5\n",
      "x = 1 - y = 6\n",
      "x = 1 - y = 7\n",
      "x = 1 - y = 8\n",
      "x = 1 - y = 9\n",
      "x = 1 - y = 10\n",
      "x = 2 - y = 1\n",
      "x = 2 - y = 2\n",
      "x = 2 - y = 3\n",
      "x = 2 - y = 4\n",
      "x = 2 - y = 5\n",
      "x = 2 - y = 6\n",
      "x = 2 - y = 7\n",
      "x = 2 - y = 8\n",
      "x = 2 - y = 9\n",
      "x = 2 - y = 10\n",
      "x = 3 - y = 1\n",
      "x = 3 - y = 2\n",
      "x = 3 - y = 3\n",
      "x = 3 - y = 4\n",
      "x = 3 - y = 5\n",
      "x = 3 - y = 6\n",
      "x = 3 - y = 7\n",
      "x = 3 - y = 8\n",
      "x = 3 - y = 9\n",
      "x = 3 - y = 10\n"
     ]
    }
   ],
   "source": [
    "# Vòng lặp lồng nhau\n",
    "for x in range(1, 4):\n",
    "    for y in range(1, 11):\n",
    "        print('x =', x, '- y =', y)"
   ]
  },
  {
   "cell_type": "markdown",
   "id": "6f27be6a",
   "metadata": {},
   "source": [
    "<h2 style=\"color: red;\">2. Bài tập</h2>\n",
    "<ol>\n",
    "    <li><code>Viết chương trình nhập vào một số nguyên dương n, đếm xem trong đoạn [1, n] có bao nhiêu giá trị chẵn, lẻ, âm, dương</code></li>\n",
    "    <li><code>In ra các số từ 1 tới 50</code></li>\n",
    "    <li><code>In ra các hình sao theo mẫu dưới đây:</code></li>\n",
    "    <li><a href='https://viettuts.vn/bai-tap-python/bai-tap-vong-lap-trong-python'><code style='color: red;'>Bài tập làm thêm về vòng lặp</code></a></li>\n",
    "</ol>"
   ]
  },
  {
   "cell_type": "markdown",
   "id": "d73248f5",
   "metadata": {},
   "source": [
    "![Stars](img/stars.png)"
   ]
  }
 ],
 "metadata": {
  "kernelspec": {
   "display_name": "Python 3 (ipykernel)",
   "language": "python",
   "name": "python3"
  },
  "language_info": {
   "codemirror_mode": {
    "name": "ipython",
    "version": 3
   },
   "file_extension": ".py",
   "mimetype": "text/x-python",
   "name": "python",
   "nbconvert_exporter": "python",
   "pygments_lexer": "ipython3",
   "version": "3.10.4"
  }
 },
 "nbformat": 4,
 "nbformat_minor": 5
}
